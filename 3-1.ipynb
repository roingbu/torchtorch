{
 "cells": [
  {
   "cell_type": "markdown",
   "metadata": {},
   "source": [
    "转换成单通道"
   ]
  },
  {
   "cell_type": "code",
   "execution_count": null,
   "metadata": {},
   "outputs": [],
   "source": [
    "import cv2\n",
    "import os\n",
    " \n",
    "print('----------------------------------------------------')\n",
    "print('程序的功能为：将该目录下输入的文件内的图片转为指定格式')#目前我测试了jpg转化为png和png转化为jpg。\n",
    "print('转化结果保存在当前目录下的new_picture内')\n",
    "print('----------------------------------------------------')\n",
    " \n",
    "son = \"seg/labels\"   # 要转换的图片所在文件夹\n",
    "picture_type = \"png\"  # 目标格式\n",
    "# daddir= ''\n",
    "path = son\n",
    " \n",
    "newpath = \"labels111\"\n",
    "if not os.path.exists(newpath):\n",
    "    os.mkdir(newpath)\n",
    " \n",
    "path_list=os.listdir(path)\n",
    "number=0#统计图片数量\n",
    "for filename in path_list:\n",
    "    number+=1\n",
    "    portion = os.path.splitext(filename)\n",
    "    print('convert  ' + filename +'  to '+portion[0]+'.'+picture_type)\n",
    "    img = cv2.imread(path+\"/\"+filename, cv2.IMREAD_GRAYSCALE)\n",
    "    cv2.imwrite(\"./\"+newpath+\"/\"+portion[0]+'.'+picture_type,img)\n",
    "print(\"共转化了%d张图片\"%number)\n",
    "print('转换完毕，文件存入 '+newpath+' 中')\n",
    "cv2.waitKey(0)\n",
    "cv2.destroyAllWindows()"
   ]
  }
 ],
 "metadata": {
  "interpreter": {
   "hash": "f2b2a46867c8cca0837d4763949e302047dba39b4973a6702d7b61b462bba288"
  },
  "kernelspec": {
   "display_name": "Python 3.8.11 64-bit ('pytorch': conda)",
   "language": "python",
   "name": "python3"
  },
  "language_info": {
   "codemirror_mode": {
    "name": "ipython",
    "version": 3
   },
   "file_extension": ".py",
   "mimetype": "text/x-python",
   "name": "python",
   "nbconvert_exporter": "python",
   "pygments_lexer": "ipython3",
   "version": "3.8.11"
  },
  "orig_nbformat": 4
 },
 "nbformat": 4,
 "nbformat_minor": 2
}
