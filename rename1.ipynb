{
 "cells": [
  {
   "cell_type": "code",
   "execution_count": 18,
   "metadata": {},
   "outputs": [
    {
     "name": "stdout",
     "output_type": "stream",
     "text": [
      "正在生成以0.jpg迭代的文件名\n",
      "一共修改了1035个文件\n"
     ]
    }
   ],
   "source": [
    "#coding=gbk\n",
    "import os\n",
    "import sys\n",
    "\n",
    "def rename():\n",
    "    # path=input(\"请输入路径(例如D:\\\\\\\\picture)：\")\n",
    "    path = \"./aug256\"\n",
    "    # name=input(\"请输入开头名:\")\n",
    "    name = \"\"\n",
    "    # startNumber=input(\"请输入开始数:\")\n",
    "    startNumber = \"0\"\n",
    "    # fileType=input(\"请输入后缀名（如 .jpg、.txt等等）:\")\n",
    "    fileType = \".jpg\"\n",
    "    print(\"正在生成以\"+name+startNumber+fileType+\"迭代的文件名\")\n",
    "    count=0\n",
    "    filelist=os.listdir(path)\n",
    "    for files in filelist:\n",
    "        Olddir=os.path.join(path,files)\n",
    "        if os.path.isdir(Olddir):\n",
    "            continue\n",
    "        Newdir=os.path.join(path,name+str(count+int(startNumber))+fileType)\n",
    "        os.rename(Olddir,Newdir)\n",
    "        count+=1\n",
    "    print(\"一共修改了\"+str(count)+\"个文件\")\n",
    "\n",
    "rename() "
   ]
  }
 ],
 "metadata": {
  "kernelspec": {
   "display_name": "Python 3.9.12 ('base')",
   "language": "python",
   "name": "python3"
  },
  "language_info": {
   "codemirror_mode": {
    "name": "ipython",
    "version": 3
   },
   "file_extension": ".py",
   "mimetype": "text/x-python",
   "name": "python",
   "nbconvert_exporter": "python",
   "pygments_lexer": "ipython3",
   "version": "3.9.12"
  },
  "orig_nbformat": 4,
  "vscode": {
   "interpreter": {
    "hash": "91f6a04488c6f6c893277af113acfe6c1e243656720881e8cb90c9c6953cd34f"
   }
  }
 },
 "nbformat": 4,
 "nbformat_minor": 2
}
