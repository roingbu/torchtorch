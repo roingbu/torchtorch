{
 "cells": [
  {
   "cell_type": "code",
   "execution_count": 1,
   "metadata": {},
   "outputs": [
    {
     "name": "stdout",
     "output_type": "stream",
     "text": [
      "文件类型为【.jpg】的数量有：10000 个\n",
      "总文件数量为:10000\n"
     ]
    }
   ],
   "source": [
    "import os\n",
    " \n",
    "#文件夹中的文件计数函数\n",
    "def file_count(local_path, type_dict):\n",
    "    global all_file_num                 # 声明全局变量\n",
    "    file_list = os.listdir(local_path)  # 列出本地文件夹第一层目录的所有文件和目录\n",
    "    for file_name in file_list:\n",
    "        if os.path.isdir(os.path.join(local_path, file_name)):  # 判断是文件还是目录，是目录为真\n",
    "            type_dict.setdefault(\"文件夹\", 0)      # 如果字典key不存在，则添加并设置为初始值\n",
    "            type_dict[\"文件夹\"] += 1\n",
    "            p_local_path = os.path.join(local_path, file_name)  # 拼接本地第一层子目录，递归时进入下一层\n",
    "            file_count(p_local_path, type_dict)\n",
    "        else:\n",
    "            ext = os.path.splitext(file_name)[1]  # 获取到文件的后缀\n",
    "            type_dict.setdefault(ext, 0)          # 如果字典key不存在，则添加并设置为初始值\n",
    "            type_dict[ext] += 1\n",
    "            all_file_num += 1                     # 计算总文件数量\n",
    "    return all_file_num\n",
    " \n",
    " \n",
    "\n",
    "local_path = './output'          #文件夹的路径\n",
    "type_dict = dict()              # 定义一个保存文件类型及数量的空字典\n",
    "all_file_num = 0                #计算本地总文件数\n",
    "file_count = file_count(local_path, type_dict)   # 运行函数,power by luotao\n",
    "\n",
    "# 打印文件类型以及数量\n",
    "for each_type in type_dict:\n",
    "    print(f\"文件类型为【{each_type}】的数量有：{type_dict[each_type]} 个\")\n",
    "print(f\"总文件数量为:{file_count}\")"
   ]
  }
 ],
 "metadata": {
  "kernelspec": {
   "display_name": "Python 3.9.12 ('base')",
   "language": "python",
   "name": "python3"
  },
  "language_info": {
   "codemirror_mode": {
    "name": "ipython",
    "version": 3
   },
   "file_extension": ".py",
   "mimetype": "text/x-python",
   "name": "python",
   "nbconvert_exporter": "python",
   "pygments_lexer": "ipython3",
   "version": "3.9.12"
  },
  "orig_nbformat": 4,
  "vscode": {
   "interpreter": {
    "hash": "91f6a04488c6f6c893277af113acfe6c1e243656720881e8cb90c9c6953cd34f"
   }
  }
 },
 "nbformat": 4,
 "nbformat_minor": 2
}
