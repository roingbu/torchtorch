{
 "cells": [
  {
   "cell_type": "code",
   "execution_count": 1,
   "metadata": {},
   "outputs": [
    {
     "name": "stdout",
     "output_type": "stream",
     "text": [
      "R_mean: 101.487486, G_mean: 103.817788, B_mean: 98.099975\n",
      "R_std: 44.613091, G_std: 43.435030, B_std: 42.179055\n"
     ]
    }
   ],
   "source": [
    "import os\n",
    "import numpy as np\n",
    "import cv2\n",
    "\n",
    "files_dir = 'images/' # 记得路径后面加 “/”\n",
    "files = os.listdir(files_dir)\n",
    "\n",
    "R = 0.\n",
    "G = 0.\n",
    "B = 0.\n",
    "R_2 = 0.\n",
    "G_2 = 0.\n",
    "B_2 = 0.\n",
    "N = 0\n",
    "\n",
    "for file in files:\n",
    "    img = cv2.imread(files_dir+file)\n",
    "    img = cv2.cvtColor(img, cv2.COLOR_BGR2RGB)\n",
    "    img = np.array(img)\n",
    "    h, w, c = img.shape\n",
    "    N += h*w\n",
    "\n",
    "    R_t = img[:, :, 0]\n",
    "    R += np.sum(R_t)\n",
    "    R_2 += np.sum(np.power(R_t, 2.0))\n",
    "\n",
    "    G_t = img[:, :, 1]\n",
    "    G += np.sum(G_t)\n",
    "    G_2 += np.sum(np.power(G_t, 2.0))\n",
    "\n",
    "    B_t = img[:, :, 2]\n",
    "    B += np.sum(B_t)\n",
    "    B_2 += np.sum(np.power(B_t, 2.0))\n",
    "\n",
    "R_mean = R/N\n",
    "G_mean = G/N\n",
    "B_mean = B/N\n",
    "\n",
    "R_std = np.sqrt(R_2/N - R_mean*R_mean)\n",
    "G_std = np.sqrt(G_2/N - G_mean*G_mean)\n",
    "B_std = np.sqrt(B_2/N - B_mean*B_mean)\n",
    "\n",
    "print(\"R_mean: %f, G_mean: %f, B_mean: %f\" % (R_mean, G_mean, B_mean))\n",
    "print(\"R_std: %f, G_std: %f, B_std: %f\" % (R_std, G_std, B_std))\n",
    "\n"
   ]
  }
 ],
 "metadata": {
  "interpreter": {
   "hash": "fe3f7a454be992d9f599e006ffb674d9574b324d65c894f30c36edb0fd3d4ab8"
  },
  "kernelspec": {
   "display_name": "Python 3.7.11 64-bit ('mmlab': conda)",
   "language": "python",
   "name": "python3"
  },
  "language_info": {
   "codemirror_mode": {
    "name": "ipython",
    "version": 3
   },
   "file_extension": ".py",
   "mimetype": "text/x-python",
   "name": "python",
   "nbconvert_exporter": "python",
   "pygments_lexer": "ipython3",
   "version": "3.8.11"
  },
  "orig_nbformat": 4
 },
 "nbformat": 4,
 "nbformat_minor": 2
}
