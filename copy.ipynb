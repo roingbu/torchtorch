{
 "cells": [
  {
   "cell_type": "code",
   "execution_count": 3,
   "metadata": {},
   "outputs": [],
   "source": [
    "# -*- coding: utf-8 -*-\n",
    "\"\"\"\n",
    "Created on 2022年1月6日23:26:00\n",
    "\n",
    "@author: MambaCloud\n",
    "\"\"\"\n",
    "\n",
    "import os\n",
    "import shutil\n",
    "\n",
    "\n",
    "def file_copy(path,targe_path,num):  #将path目录下所有jpg文件复制到targe_path\n",
    "    '''\n",
    "    root 所指的是当前正在遍历的这个文件夹的本身的地址\n",
    "    dirs 是一个 list ，内容是该文件夹中所有的目录的名字(不包括子目录)\n",
    "    files 同样是 list , 内容是该文件夹中所有的文件名(不包括子目录)\n",
    "    '''\n",
    "    n=0\n",
    "    if not os.path.exists(targe_path):  # 如果目的路径不存在该文件就创建空文件,并保持目录层级结构\n",
    "        os.makedirs(targe_path)\n",
    "    for root,dirs,files in os.walk(path):  # 列出源目录文件和文件夹\n",
    "        for name in files:\n",
    "            if name.endswith('.jpg'):#若文件名结尾是以jpg结尾，则复制到新文件夹\n",
    "                list=(os.path.join(root,name)) #list是jpg文件的全路径\n",
    "                shutil.copy(list, targe_path) #将jpg文件复制到新文件夹\n",
    "                n+=1\n",
    "                if n==num:\n",
    "                    break\n",
    "                \n",
    "        \n",
    "\n",
    "path=\"./output\"\n",
    "targe_path=\"./copy\"\n",
    "num = 1000\n",
    "file_copy(path, targe_path,num)\n",
    "\n"
   ]
  },
  {
   "cell_type": "code",
   "execution_count": 4,
   "metadata": {},
   "outputs": [
    {
     "ename": "IndentationError",
     "evalue": "unindent does not match any outer indentation level (<tokenize>, line 14)",
     "output_type": "error",
     "traceback": [
      "\u001b[1;36m  File \u001b[1;32m<tokenize>:14\u001b[1;36m\u001b[0m\n\u001b[1;33m    os.path.isfile(source_file):\u001b[0m\n\u001b[1;37m    ^\u001b[0m\n\u001b[1;31mIndentationError\u001b[0m\u001b[1;31m:\u001b[0m unindent does not match any outer indentation level\n"
     ]
    }
   ],
   "source": [
    "# coding=utf-8\n",
    "# 批量复制或删除\n",
    "import os\n",
    "import shutil\n",
    "\n",
    "\n",
    "# 递归复制文件夹内的文件 , 保留目录结构\n",
    "def copyFiles(sourceDir, targetDir):\n",
    "    # 忽略某些特定的子文件夹\n",
    "    if sourceDir.find(\"exceptionfolder\") > 0:\n",
    "        return\n",
    "\n",
    "    # 列出源目录文件和文件夹\n",
    "    for file in os.listdir(sourceDir):\n",
    "        # 拼接完整路径\n",
    "        sourceFile = os.path.join(sourceDir, file)\n",
    "        targetFile = os.path.join(targetDir, file)\n",
    "\n",
    "        # 如果是文件则处理\n",
    "        if os.path.isfile(sourceFile):\n",
    "            # 如果目的路径不存在该文件就创建空文件,并保持目录层级结构\n",
    "            if not os.path.exists(targetDir):\n",
    "                os.makedirs(targetDir)\n",
    "                # 如果目的路径里面不存在某个文件或者存在那个同名文件但是文件有残缺，则复制，否则跳过\n",
    "            if not os.path.exists(targetFile) or (\n",
    "                    os.path.exists(targetFile) and (os.path.getsize(targetFile) != os.path.getsize(sourceFile))):\n",
    "                open(targetFile, \"wb\").write(open(sourceFile, \"rb\").read())\n",
    "                print(targetFile + \" copy succeeded\")\n",
    "\n",
    "        # 如果是文件夹则递归\n",
    "        if os.path.isdir(sourceFile):\n",
    "            copyFiles(sourceFile, targetFile)\n",
    "\n",
    "\n",
    "\n",
    "# 遍历某个目录及其子目录下所有文件拷贝到某个目录中\n",
    "def copyFiles2(srcPath, dstPath):\n",
    "    if not os.path.exists(srcPath):\n",
    "        print(\"src path not exist!\")\n",
    "    if not os.path.exists(dstPath):\n",
    "        os.makedirs(dstPath)\n",
    "        # 递归遍历文件夹下的文件，用os.walk函数返回一个三元组\n",
    "\n",
    "\n",
    "    for root, dirs, files in os.walk(srcPath):\n",
    "        print(\"root:{}, dirs:{}, files:{}\".format(root, dirs, files))\n",
    "        for eachfile in files:\n",
    "            shutil.copy(os.path.join(root, eachfile), dstPath)\n",
    "            print(eachfile + \" copy succeeded\")\n",
    "\n",
    "\n",
    "# 删除某目录下特定文件\n",
    "def removeFileInDir(sourceDir):\n",
    "    for file in os.listdir(sourceDir):\n",
    "        file = os.path.join(sourceDir, file)  # 必须拼接完整文件名\n",
    "        if os.path.isfile(file) and file.find(\".jpg\") > 0:\n",
    "            os.remove(file)\n",
    "            print(file + \" remove succeeded\")\n",
    "\n",
    "\n",
    "if __name__ == \"__main__\":\n",
    "    path_xml = \"./deal_datasets/ipotos\"  # 当前操作目录\n",
    "    copyFiles(path_xml, \"./come\")\n",
    "\n"
   ]
  }
 ],
 "metadata": {
  "kernelspec": {
   "display_name": "Python 3.9.12 ('base')",
   "language": "python",
   "name": "python3"
  },
  "language_info": {
   "codemirror_mode": {
    "name": "ipython",
    "version": 3
   },
   "file_extension": ".py",
   "mimetype": "text/x-python",
   "name": "python",
   "nbconvert_exporter": "python",
   "pygments_lexer": "ipython3",
   "version": "3.9.12"
  },
  "orig_nbformat": 4,
  "vscode": {
   "interpreter": {
    "hash": "91f6a04488c6f6c893277af113acfe6c1e243656720881e8cb90c9c6953cd34f"
   }
  }
 },
 "nbformat": 4,
 "nbformat_minor": 2
}
