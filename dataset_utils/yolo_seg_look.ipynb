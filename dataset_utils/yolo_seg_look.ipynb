{
 "cells": [
  {
   "cell_type": "code",
   "execution_count": 2,
   "metadata": {},
   "outputs": [],
   "source": [
    "import cv2\n",
    "import numpy as np\n",
    "\n",
    "\n",
    "if __name__ == '__main__':\n",
    "    pic_path = r\"/data/dataset/coco128-seg/images/train2017/000000000009.jpg\"\n",
    "    txt_path = r\"/data/dataset/coco128-seg/labels/train2017/000000000009.txt\"\n",
    "    img = cv2.imread(pic_path)\n",
    "    height, width, _ = img.shape\n",
    "    file_handle = open(txt_path)\n",
    "    cnt_info = file_handle.readlines()\n",
    "    new_cnt_info = [line_str.replace(\"\\n\", \"\").split(\" \") for line_str in cnt_info]\n",
    "    # 45 bowl 碗 49 橘子 50 西兰花\n",
    "    color_map = {\"49\": (0, 255, 255), \"45\": (255, 0, 255), \"50\": (255, 255, 0)}\n",
    "    for new_info in new_cnt_info:\n",
    "        s = []\n",
    "        for i in range(1, len(new_info), 2):\n",
    "            b = [float(tmp) for tmp in new_info[i:i + 2]]\n",
    "            s.append([int(b[0] * width), int(b[1] * height)])\n",
    "        cv2.polylines(img, [np.array(s, np.int32)], True, color_map.get(new_info[0]))\n",
    "    cv2.imshow('img', img)\n",
    "    cv2.waitKey()\n"
   ]
  }
 ],
 "metadata": {
  "kernelspec": {
   "display_name": "Python 3",
   "language": "python",
   "name": "python3"
  },
  "language_info": {
   "codemirror_mode": {
    "name": "ipython",
    "version": 3
   },
   "file_extension": ".py",
   "mimetype": "text/x-python",
   "name": "python",
   "nbconvert_exporter": "python",
   "pygments_lexer": "ipython3",
   "version": "3.8.10"
  },
  "orig_nbformat": 4,
  "vscode": {
   "interpreter": {
    "hash": "e7370f93d1d0cde622a1f8e1c04877d8463912d04d973331ad4851f04de6915a"
   }
  }
 },
 "nbformat": 4,
 "nbformat_minor": 2
}
