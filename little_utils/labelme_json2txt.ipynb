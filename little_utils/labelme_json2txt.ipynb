{
 "cells": [
  {
   "attachments": {},
   "cell_type": "markdown",
   "metadata": {},
   "source": [
    "# 用labelme标注的json文件转化为对应的格式"
   ]
  },
  {
   "cell_type": "code",
   "execution_count": null,
   "metadata": {},
   "outputs": [],
   "source": [
    "import json\n",
    "import os\n",
    "import argparse\n",
    "from tqdm import tqdm\n",
    " \n",
    "def convert_label_json(json_dir, save_dir, classes):\n",
    "    json_paths = os.listdir(json_dir)\n",
    "    classes = classes.split(',')\n",
    " \n",
    "    for json_path in tqdm(json_paths):\n",
    "    # for json_path in json_paths:\n",
    "        path = os.path.join(json_dir,json_path)\n",
    "        with open(path,'r') as load_f:\n",
    "            json_dict = json.load(load_f)\n",
    "        h, w = json_dict['imageHeight'], json_dict['imageWidth']\n",
    " \n",
    "        # save txt path\n",
    "        txt_path = os.path.join(save_dir, json_path.replace('json', 'txt'))\n",
    "        txt_file = open(txt_path, 'w')\n",
    " \n",
    "        for shape_dict in json_dict['shapes']:\n",
    "            label = shape_dict['label']\n",
    "            label_index = classes.index(label)\n",
    "            points = shape_dict['points']\n",
    " \n",
    "            points_nor_list = []\n",
    " \n",
    "            for point in points:\n",
    "                points_nor_list.append(point[0]/w)\n",
    "                points_nor_list.append(point[1]/h)\n",
    " \n",
    "            points_nor_list = list(map(lambda x:str(x),points_nor_list))\n",
    "            points_nor_str = ' '.join(points_nor_list)\n",
    "            \n",
    "            label_str = str(label_index) + ' ' +points_nor_str + '\\n'\n",
    "            txt_file.writelines(label_str)\n",
    " \n",
    "if __name__ == \"__main__\":\n",
    "    \"\"\"\n",
    "    python json2txt_nomalize.py --json-dir my_datasets/color_rings/jsons --save-dir my_datasets/color_rings/txts --classes \"cat,dogs\"\n",
    "    \"\"\"\n",
    "    parser = argparse.ArgumentParser(description='json convert to txt params')\n",
    "    parser.add_argument('--json-dir', type=str, help='json path dir')\n",
    "    parser.add_argument('--save-dir', type=str, help='txt save dir')\n",
    "    parser.add_argument('--classes', type=str, help='classes')\n",
    "    args = parser.parse_args()\n",
    "    json_dir = args.json_dir\n",
    "    save_dir = args.save_dir\n",
    "    classes = args.classes\n",
    "    convert_label_json(json_dir, save_dir, classes)"
   ]
  }
 ],
 "metadata": {
  "kernelspec": {
   "display_name": "Python 3",
   "language": "python",
   "name": "python3"
  },
  "language_info": {
   "codemirror_mode": {
    "name": "ipython",
    "version": 3
   },
   "file_extension": ".py",
   "mimetype": "text/x-python",
   "name": "python",
   "nbconvert_exporter": "python",
   "pygments_lexer": "ipython3",
   "version": "3.8.10"
  },
  "orig_nbformat": 4,
  "vscode": {
   "interpreter": {
    "hash": "e7370f93d1d0cde622a1f8e1c04877d8463912d04d973331ad4851f04de6915a"
   }
  }
 },
 "nbformat": 4,
 "nbformat_minor": 2
}
