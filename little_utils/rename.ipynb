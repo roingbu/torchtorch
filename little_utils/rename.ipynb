{
 "cells": [
  {
   "cell_type": "code",
   "execution_count": null,
   "metadata": {},
   "outputs": [
    {
     "ename": "",
     "evalue": "",
     "output_type": "error",
     "traceback": [
      "\u001b[1;31mFailed to start the Kernel. \n",
      "\u001b[1;31mUnable to start Kernel 'base (Python 3.9.12)' due to connection timeout. \n",
      "View Jupyter <a href='command:jupyter.viewOutput'>log</a> for further details."
     ]
    }
   ],
   "source": [
    "#coding=gbk\n",
    "import os\n",
    "import sys\n",
    "\n",
    "def rename():\n",
    "    # path=input(\"请输入路径(例如D:\\\\\\\\picture)：\")\n",
    "    path = \"./anfang_fake2\"\n",
    "    # name=input(\"请输入开头名:\")\n",
    "    name = \"face_\"\n",
    "    # startNumber=input(\"请输入开始数:\")\n",
    "    startNumber = \"1230\"\n",
    "    # fileType=input(\"请输入后缀名（如 .jpg、.txt等等）:\")\n",
    "    fileType = \".jpg\"\n",
    "    print(\"正在生成以\"+name+startNumber+fileType+\"迭代的文件名\")\n",
    "    count=0\n",
    "    filelist=os.listdir(path)\n",
    "    for files in filelist:\n",
    "        Olddir=os.path.join(path,files)\n",
    "        if os.path.isdir(Olddir):\n",
    "            continue\n",
    "        Newdir=os.path.join(path,name+str(count+int(startNumber))+fileType)\n",
    "        os.rename(Olddir,Newdir)\n",
    "        count+=1\n",
    "    print(\"一共修改了\"+str(count)+\"个文件\")\n",
    "\n",
    "rename() "
   ]
  }
 ],
 "metadata": {
  "kernelspec": {
   "display_name": "Python 3",
   "language": "python",
   "name": "python3"
  },
  "language_info": {
   "codemirror_mode": {
    "name": "ipython",
    "version": 3
   },
   "file_extension": ".py",
   "mimetype": "text/x-python",
   "name": "python",
   "nbconvert_exporter": "python",
   "pygments_lexer": "ipython3",
   "version": "3.8.10"
  },
  "orig_nbformat": 4,
  "vscode": {
   "interpreter": {
    "hash": "e7370f93d1d0cde622a1f8e1c04877d8463912d04d973331ad4851f04de6915a"
   }
  }
 },
 "nbformat": 4,
 "nbformat_minor": 2
}
