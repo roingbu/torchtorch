{
 "cells": [
  {
   "cell_type": "code",
   "execution_count": 1,
   "metadata": {},
   "outputs": [
    {
     "name": "stdout",
     "output_type": "stream",
     "text": [
      "Wed Mar 23 09:33:14 2022       \n",
      "+-----------------------------------------------------------------------------+\n",
      "| NVIDIA-SMI 470.86       Driver Version: 470.86       CUDA Version: 11.4     |\n",
      "|-------------------------------+----------------------+----------------------+\n",
      "| GPU  Name        Persistence-M| Bus-Id        Disp.A | Volatile Uncorr. ECC |\n",
      "| Fan  Temp  Perf  Pwr:Usage/Cap|         Memory-Usage | GPU-Util  Compute M. |\n",
      "|                               |                      |               MIG M. |\n",
      "|===============================+======================+======================|\n",
      "|   0  NVIDIA GeForce ...  Off  | 00000000:02:00.0 Off |                  N/A |\n",
      "|  0%   32C    P8    14W / 170W |      0MiB / 12053MiB |      0%      Default |\n",
      "|                               |                      |                  N/A |\n",
      "+-------------------------------+----------------------+----------------------+\n",
      "|   1  NVIDIA GeForce ...  Off  | 00000000:82:00.0 Off |                  N/A |\n",
      "|  0%   30C    P8    21W / 350W |      0MiB / 24268MiB |      0%      Default |\n",
      "|                               |                      |                  N/A |\n",
      "+-------------------------------+----------------------+----------------------+\n",
      "                                                                               \n",
      "+-----------------------------------------------------------------------------+\n",
      "| Processes:                                                                  |\n",
      "|  GPU   GI   CI        PID   Type   Process name                  GPU Memory |\n",
      "|        ID   ID                                                   Usage      |\n",
      "|=============================================================================|\n",
      "|  No running processes found                                                 |\n",
      "+-----------------------------------------------------------------------------+\n"
     ]
    }
   ],
   "source": [
    "!nvidia-smi\n",
    "\n",
    "workspace_dir = '.'"
   ]
  },
  {
   "cell_type": "markdown",
   "metadata": {},
   "source": [
    "# train"
   ]
  },
  {
   "cell_type": "code",
   "execution_count": null,
   "metadata": {},
   "outputs": [],
   "source": [
    "！export CUDA_VISIBLE_DEVICES=1"
   ]
  },
  {
   "cell_type": "code",
   "execution_count": 1,
   "metadata": {},
   "outputs": [
    {
     "name": "stdout",
     "output_type": "stream",
     "text": [
      "^C\n"
     ]
    }
   ],
   "source": [
    "# !stylegan2_pytorch --data \"{workspace_dir}/abnormal\" --name \"try0_ab_att\" --results_dir \"{workspace_dir}/result\" --models_dir \"{workspace_dir}/model\" \\\n",
    "#     --image-size 512  --batch-size 5 --gradient-accumulate-every 7 --num-workers 8 --num-train-steps 150000 --network-capacity 16 --attn-layers [1,2] \\\n",
    "#         --aug-prob 0.3 --aug-types [translation,cutout,colour] --top-k-training --generate-top-k-frac 0.3 --generate-top-k-gamma 1 \\\n",
    "#         --calculate-fid-every 5000 --log  \\\n",
    "#         --cl-reg \\\n",
    "#         --dual-contrast-loss \\\n",
    "#         --clear-fid-cache\\\n",
    "#         --fq-layers [1,2] --fq-dict-size 512\\\n",
    "#         --rel-disc-loss\\\n",
    "#         --no-const\n",
    "        \n",
    "!stylegan2_pytorch --data \"{workspace_dir}/abnormal\" --name \"try0_ab_att\" --results_dir \"{workspace_dir}/result\" --models_dir \"{workspace_dir}/model\" \\\n",
    "    --image-size 512  --batch-size 5 --gradient-accumulate-every 7 --num-workers 8 --num-train-steps 150000 --network-capacity 16 --attn-layers [1] \\\n",
    "        --aug-prob 0.3 --aug-types [translation,cutout] \\\n",
    "        --calculate-fid-every 5000 --log  \\\n",
    "        \n"
   ]
  },
  {
   "cell_type": "code",
   "execution_count": null,
   "metadata": {},
   "outputs": [],
   "source": [
    "!aim up\n",
    "# 打开aim\n"
   ]
  },
  {
   "cell_type": "code",
   "execution_count": null,
   "metadata": {},
   "outputs": [],
   "source": [
    "\n",
    "Load Aim extension for notebooks\n",
    "%load_ext aim \n",
    "# Run %aim up to open Aim UI in the notebook\n",
    "%aim up "
   ]
  },
  {
   "cell_type": "markdown",
   "metadata": {},
   "source": [
    "# generator easily"
   ]
  },
  {
   "cell_type": "code",
   "execution_count": null,
   "metadata": {},
   "outputs": [],
   "source": [
    "for i in range(334):\n",
    "  print(i)\n",
    "  !stylegan2_pytorch  --data \"{workspace_dir}/faces\" --name \"faces\" --results_dir \"{workspace_dir}/output\" --models_dir \"{workspace_dir}/model\" --image-size 64 --num-image-tiles 1 --generate \n",
    "  \n",
    "\n",
    "\n",
    "\n",
    "!stylegan2_pytorch --generate --name try35 --load-from 40  --num-image-tiles 2 --image-size 512 --results_dir \"./output\""
   ]
  },
  {
   "cell_type": "markdown",
   "metadata": {},
   "source": [
    "### Generate and show some images."
   ]
  },
  {
   "cell_type": "code",
   "execution_count": null,
   "metadata": {},
   "outputs": [],
   "source": [
    "# Generate 1000 images and make a grid to save them.\n",
    "import torch\n",
    "from torchvision.utils import save_image\n",
    "from stylegan2_pytorch import ModelLoader\n",
    "\n",
    "loader = ModelLoader(\n",
    "    base_dir = './hw6',   # path to where you invoked the command line tool\n",
    "    name = 'stylegan2'                             # the project name, defaults to 'default'\n",
    ")\n",
    "\n",
    "\n",
    "n_output = 1000\n",
    "noise   = torch.randn(n_output, 512) # noise\n",
    "styles  = loader.noise_to_styles(noise, trunc_psi = 0.75)  # pass through mapping network\n",
    "\n",
    "# Show 32 of the images.\n",
    "imgs_sample = loader.styles_to_images(styles[:32])\n",
    "grid_img = torchvision.utils.make_grid(imgs_sample.cpu(), nrow=10)\n",
    "plt.figure(figsize=(10,10))\n",
    "plt.imshow(grid_img.permute(1, 2, 0))\n",
    "plt.show()"
   ]
  },
  {
   "cell_type": "markdown",
   "metadata": {},
   "source": [
    "check the number of images"
   ]
  },
  {
   "cell_type": "code",
   "execution_count": null,
   "metadata": {},
   "outputs": [],
   "source": [
    "!ls ./gdrive/MyDrive/HW6/output/faces | wc -l"
   ]
  },
  {
   "cell_type": "markdown",
   "metadata": {},
   "source": [
    "change file name as 1 2 3 ...\n"
   ]
  },
  {
   "cell_type": "code",
   "execution_count": null,
   "metadata": {},
   "outputs": [],
   "source": [
    "import os\n",
    "  \n",
    "os.chdir(\"./gdrive/MyDrive/HW6/output/faces\")\n",
    "print(os.getcwd())\n",
    "COUNT = 1\n",
    "  \n",
    "# Function to increment count \n",
    "# to make the files sorted.\n",
    "def increment():\n",
    "    global COUNT\n",
    "    COUNT = COUNT + 1\n",
    "  \n",
    "  \n",
    "for f in os.listdir():\n",
    "    f_name, f_ext = os.path.splitext(f)\n",
    "    f_name =  str(COUNT)\n",
    "    increment()\n",
    "  \n",
    "    new_name = '{} {}'.format(f_name, f_ext)\n",
    "    os.rename(f, new_name)"
   ]
  }
 ],
 "metadata": {
  "interpreter": {
   "hash": "7e1f49c36df3f310eb5d283e65213b68fb982f6b468a6b62e755d6c6caf0db4e"
  },
  "kernelspec": {
   "display_name": "Python 3.10.0 ('paddle': conda)",
   "language": "python",
   "name": "python3"
  },
  "language_info": {
   "codemirror_mode": {
    "name": "ipython",
    "version": 3
   },
   "file_extension": ".py",
   "mimetype": "text/x-python",
   "name": "python",
   "nbconvert_exporter": "python",
   "pygments_lexer": "ipython3",
   "version": "3.9.7"
  },
  "orig_nbformat": 4
 },
 "nbformat": 4,
 "nbformat_minor": 2
}
