{
  "cells": [
    {
      "cell_type": "markdown",
      "metadata": {
        "colab_type": "text",
        "id": "view-in-github"
      },
      "source": [
        "<a href=\"https://colab.research.google.com/github/tabowsy/NTU-MACHINE-LEARNING-2021-SPRING/blob/main/HW6_GAN.ipynb\" target=\"_parent\"><img src=\"https://colab.research.google.com/assets/colab-badge.svg\" alt=\"Open In Colab\"/></a>"
      ]
    },
    {
      "cell_type": "code",
      "execution_count": null,
      "metadata": {
        "colab": {
          "base_uri": "https://localhost:8080/"
        },
        "id": "kycTi4uLMiZQ",
        "outputId": "00532b6b-db55-47ff-da81-ad3d612e60cc"
      },
      "outputs": [],
      "source": [
        "!nvidia-smi"
      ]
    },
    {
      "cell_type": "code",
      "execution_count": null,
      "metadata": {
        "id": "aczdMOIjOeOm"
      },
      "outputs": [],
      "source": [
        "workspace_dir = '.'"
      ]
    },
    {
      "cell_type": "code",
      "execution_count": null,
      "metadata": {
        "colab": {
          "base_uri": "https://localhost:8080/"
        },
        "id": "lYhiEBAMNhT9",
        "outputId": "5878ec17-cc0e-4107-ec7b-dd62491447b5"
      },
      "outputs": [],
      "source": [
        "# from google.colab import drive\n",
        "# drive.mount('/content/gdrive')"
      ]
    },
    {
      "cell_type": "markdown",
      "metadata": {
        "id": "L91JTUF7kvMK"
      },
      "source": [
        "# ref styleGAN\n",
        "https://github.com/lucidrains/stylegan2-pytorch"
      ]
    },
    {
      "cell_type": "code",
      "execution_count": null,
      "metadata": {
        "colab": {
          "base_uri": "https://localhost:8080/",
          "height": 1000
        },
        "id": "iHMYhd2LMpq6",
        "outputId": "25f41798-448e-4fb8-8162-e2ff09639d0e"
      },
      "outputs": [],
      "source": [
        "# !pip install stylegan2_pytorch\n",
        "# !pip install pytorch-fid\n"
      ]
    },
    {
      "cell_type": "markdown",
      "metadata": {
        "id": "439nNVHAX6Qd"
      },
      "source": [
        "# train"
      ]
    },
    {
      "cell_type": "code",
      "execution_count": null,
      "metadata": {
        "colab": {
          "base_uri": "https://localhost:8080/"
        },
        "id": "stBQIM_AM9dP",
        "outputId": "47dd4f6a-326c-40e5-f4cd-b32d84b6de5d"
      },
      "outputs": [],
      "source": [
        "!stylegan2_pytorch --data \"{workspace_dir}/faces\" --name \"faces\" --results_dir \"{workspace_dir}/result\" --models_dir \"{workspace_dir}/model\" --image-size 512 --num-workers 8 --num-train-steps 100000 --network-capacity 256 --attn-layers [1,2] --aug-prob 0.25 --aug-types [translation,cutout,color] --top-k-training --cl-reg --calculate-fid-every 5000 --log\n",
        "# !stylegan2_pytorch --data ./data --calculate-fid-every 5000 --batch-size 3\n",
        "# aim up 打开aim\n"
      ]
    },
    {
      "cell_type": "markdown",
      "metadata": {
        "id": "l-knXq8dMjO_"
      },
      "source": [
        "# generator"
      ]
    },
    {
      "cell_type": "code",
      "execution_count": null,
      "metadata": {
        "colab": {
          "base_uri": "https://localhost:8080/"
        },
        "id": "yUiPtIx-ISLk",
        "outputId": "896df7da-40ff-442d-d968-6b13eb191d07"
      },
      "outputs": [],
      "source": [
        "for i in range(334):\n",
        "  print(i)\n",
        "  !stylegan2_pytorch  --data \"{workspace_dir}/faces\" --name \"faces\" --results_dir \"{workspace_dir}/output\" --models_dir \"{workspace_dir}/model\" --image-size 64 --num-image-tiles 1 --generate "
      ]
    },
    {
      "cell_type": "markdown",
      "metadata": {
        "id": "LSTtX7gsldzh"
      },
      "source": [
        "# submit form"
      ]
    },
    {
      "cell_type": "markdown",
      "metadata": {
        "id": "nBYD2qTXk-Vz"
      },
      "source": [
        "check the number of images"
      ]
    },
    {
      "cell_type": "code",
      "execution_count": null,
      "metadata": {
        "colab": {
          "base_uri": "https://localhost:8080/"
        },
        "id": "ZNHvP48Ag75F",
        "outputId": "599b7eec-e428-4956-d352-bc9e039f2d50"
      },
      "outputs": [],
      "source": [
        "ls ./gdrive/MyDrive/HW6/output/faces | wc -l"
      ]
    },
    {
      "cell_type": "markdown",
      "metadata": {
        "id": "JXACROOXlKwN"
      },
      "source": [
        "randomly delete 2 extra images"
      ]
    },
    {
      "cell_type": "code",
      "execution_count": null,
      "metadata": {
        "id": "OXOPMEMZS4dQ"
      },
      "outputs": [],
      "source": [
        "from random import sample\n",
        "import os\n",
        "\n",
        "files = os.listdir(\"./gdrive/MyDrive/HW6/output/faces\")\n",
        "for file in sample(files,2):\n",
        "    os.remove(\"./gdrive/MyDrive/HW6/output/faces/\"+file)\n"
      ]
    },
    {
      "cell_type": "markdown",
      "metadata": {
        "id": "lSIgdL1_lzdV"
      },
      "source": [
        "change file name as 1 2 3 ..."
      ]
    },
    {
      "cell_type": "code",
      "execution_count": null,
      "metadata": {
        "colab": {
          "base_uri": "https://localhost:8080/"
        },
        "id": "S9W1lVOyW32Y",
        "outputId": "84cf0b64-7f28-4aef-915f-325c5b1e1557"
      },
      "outputs": [],
      "source": [
        "import os\n",
        "  \n",
        "os.chdir(\"./gdrive/MyDrive/HW6/output/faces\")\n",
        "print(os.getcwd())\n",
        "COUNT = 1\n",
        "  \n",
        "# Function to increment count \n",
        "# to make the files sorted.\n",
        "def increment():\n",
        "    global COUNT\n",
        "    COUNT = COUNT + 1\n",
        "  \n",
        "  \n",
        "for f in os.listdir():\n",
        "    f_name, f_ext = os.path.splitext(f)\n",
        "    f_name =  str(COUNT)\n",
        "    increment()\n",
        "  \n",
        "    new_name = '{} {}'.format(f_name, f_ext)\n",
        "    os.rename(f, new_name)"
      ]
    },
    {
      "cell_type": "markdown",
      "metadata": {
        "id": "3viscL_Ql4ZO"
      },
      "source": [
        "compress data"
      ]
    },
    {
      "cell_type": "code",
      "execution_count": null,
      "metadata": {
        "colab": {
          "base_uri": "https://localhost:8080/"
        },
        "id": "YvickLvLXFl7",
        "outputId": "57b568a5-557b-44b2-9075-cf9cc3962976"
      },
      "outputs": [],
      "source": [
        "# Compress the images.\n",
        "%cd {workspace_dir}/output/faces\n",
        "!tar -zcf ../images.tgz *.jpg\n",
        "%cd .."
      ]
    }
  ],
  "metadata": {
    "accelerator": "GPU",
    "colab": {
      "collapsed_sections": [],
      "include_colab_link": true,
      "name": "r09631017_hw6.ipynb",
      "provenance": [],
      "toc_visible": true
    },
    "interpreter": {
      "hash": "af407973ba12897262deda9d8992946cc1a9873fff2de40f1acc89cdf9010052"
    },
    "kernelspec": {
      "display_name": "Python 3.8.11 64-bit ('pytorch': conda)",
      "name": "python3"
    },
    "language_info": {
      "codemirror_mode": {
        "name": "ipython",
        "version": 3
      },
      "file_extension": ".py",
      "mimetype": "text/x-python",
      "name": "python",
      "nbconvert_exporter": "python",
      "pygments_lexer": "ipython3",
      "version": "3.8.11"
    }
  },
  "nbformat": 4,
  "nbformat_minor": 2
}
